{
 "cells": [
  {
   "cell_type": "code",
   "execution_count": 1,
   "id": "226fdedc",
   "metadata": {},
   "outputs": [
    {
     "name": "stdout",
     "output_type": "stream",
     "text": [
      "Enter File name: new_file.txt\n",
      "{'I': 2, 'was': 1, 'asked': 1, 'to': 1, 'come': 1, 'and': 2, 'make': 1, 'it': 3, 'work.': 1, 'plunged': 1, 'my': 1, 'hands': 1, 'into': 1, 'really': 1, 'worked': 1, 'fine.': 1, \"Let's\": 1, 'see': 1, 'how': 1, 'this': 1, 'goes': 1, 'stay': 1, 'strong': 1, 'Trust': 1, 'God.': 1}\n"
     ]
    }
   ],
   "source": [
    "fname = input('Enter File name: ')\n",
    "try: \n",
    "    file = open(fname)\n",
    "except:\n",
    "    print('File cannot be opened: ', fname)\n",
    "    exit()\n",
    "    \n",
    "counts = dict()\n",
    "for line in file:\n",
    "    words = line.split()\n",
    "    for word in words:\n",
    "        if word not in counts:\n",
    "            counts[word] = 1\n",
    "        else:\n",
    "            counts[word] += 1\n",
    "            \n",
    "print(counts)    "
   ]
  },
  {
   "cell_type": "markdown",
   "id": "717926f3",
   "metadata": {},
   "source": [
    "* I debugged the previous code with this to know what the problem was...\n",
    "* I broke down the code into two, then I still got the error and the kernel dying error..\n",
    "* after the code below, I figured...\n",
    "* I had named it new_file instead of new_file.txt\n",
    "\n",
    "file = open('new_file')\n",
    "\n",
    "ls"
   ]
  },
  {
   "cell_type": "code",
   "execution_count": 2,
   "id": "0954885b",
   "metadata": {},
   "outputs": [
    {
     "name": "stdout",
     "output_type": "stream",
     "text": [
      "Enter File name: new_file.txt\n",
      "[(3, 'IT'), (2, 'I'), (2, 'AND'), (1, 'WORKED')]\n"
     ]
    }
   ],
   "source": [
    "import string\n",
    "\n",
    "fname = input('Enter File name: ')\n",
    "try: \n",
    "    file = open(fname)\n",
    "except:\n",
    "    print('File cannot be opened: ', fname)\n",
    "    exit()\n",
    "\n",
    "count = dict()\n",
    "for line in file:\n",
    "    line = line.rstrip()\n",
    "    #line.translate(str.maketrans(fromstr, tostr, deletestr))\n",
    "    #deletes the punctuation\n",
    "    line = line.translate(line.maketrans('', '', string.punctuation))\n",
    "    line = line.upper()\n",
    "    wordings = line.split()\n",
    "    for word in wordings:\n",
    "        if word not in count:\n",
    "            count[word] = 1\n",
    "        else:\n",
    "            count[word] += 1\n",
    "            \n",
    "#print(count)\n",
    "\n",
    "h_to_low = list()\n",
    "for key, value in count.items():\n",
    "    h_to_low.append((value, key))\n",
    "h_to_low.sort(reverse= True)\n",
    "\n",
    "print(h_to_low[:4])\n",
    "#word frequency analysis"
   ]
  },
  {
   "cell_type": "code",
   "execution_count": null,
   "id": "0c69f4e9",
   "metadata": {},
   "outputs": [],
   "source": []
  },
  {
   "cell_type": "code",
   "execution_count": 5,
   "id": "b79cf834",
   "metadata": {},
   "outputs": [
    {
     "name": "stdout",
     "output_type": "stream",
     "text": [
      "annie 42\n",
      "jan 100\n"
     ]
    }
   ],
   "source": [
    "counts = { 'chuck' : 1 , 'annie' : 42, 'jan': 100}\n",
    "for name in counts:\n",
    "    if counts[name] > 10 :\n",
    "        print(name, counts[name])"
   ]
  },
  {
   "cell_type": "code",
   "execution_count": 1,
   "id": "4963e83e",
   "metadata": {},
   "outputs": [
    {
     "name": "stdout",
     "output_type": "stream",
     "text": [
      "('s', 'h', 'o', 'w', ' ', 't', 'h', 'a', 't', ' ', 'h', 'a', 'n', 'd')\n"
     ]
    }
   ],
   "source": [
    "r = tuple('show that hand')\n",
    "print(r)\n",
    "#tuple is the name of a constructor, and is a comma-separated list of values"
   ]
  },
  {
   "cell_type": "code",
   "execution_count": 3,
   "id": "57d77899",
   "metadata": {},
   "outputs": [
    {
     "data": {
      "text/plain": [
       "True"
      ]
     },
     "execution_count": 3,
     "metadata": {},
     "output_type": "execute_result"
    }
   ],
   "source": [
    "(0, 2, 4) < (0, 2, 5)\n",
    "#(0, 2, 4) < (0, 2, 1)"
   ]
  },
  {
   "cell_type": "markdown",
   "id": "a8c0bcba",
   "metadata": {},
   "source": [
    "* tuples sort through the list of values, compares and checks for whether true or false until it finds one that either checks in(true) or checks out(false).\n",
    "* here, observe that the tuple  compares the first element, observes a tie... then compares the second, same tie then sorts by the last. (The sort function does this also) \n",
    "* If I change 5 to 1, the code will return a false\n"
   ]
  },
  {
   "cell_type": "code",
   "execution_count": 9,
   "id": "6091be61",
   "metadata": {},
   "outputs": [
    {
     "name": "stdout",
     "output_type": "stream",
     "text": [
      "[(6, 'yonder'), (6, 'window'), (6, 'breaks'), (5, 'light'), (4, 'what'), (4, 'soft'), (3, 'but'), (2, 'in')]\n",
      "['yonder', 'window', 'breaks', 'light', 'what', 'soft', 'but', 'in']\n"
     ]
    }
   ],
   "source": [
    "text = 'but soft what light in yonder window breaks'\n",
    "\n",
    "words = text.split()\n",
    "text_list = list()\n",
    "\n",
    "for word in words:\n",
    "    text_list.append((len(word),word))\n",
    "text_list.sort(reverse = True) #descending order\n",
    "print(text_list)\n",
    "\n",
    "total = list() #opening a new list to call the words in text_list into:\n",
    "for length, word in text_list:\n",
    "    total.append(word)\n",
    "print(total)"
   ]
  },
  {
   "cell_type": "code",
   "execution_count": 12,
   "id": "045b5aad",
   "metadata": {},
   "outputs": [
    {
     "name": "stdout",
     "output_type": "stream",
     "text": [
      "be with position\n"
     ]
    }
   ],
   "source": [
    "fg = ['be', 'responsible', 'with', 'your', 'position']\n",
    "x, y, z, a, b = fg\n",
    "print(x, z, b)"
   ]
  },
  {
   "cell_type": "code",
   "execution_count": 17,
   "id": "0797c4a7",
   "metadata": {},
   "outputs": [
    {
     "name": "stdout",
     "output_type": "stream",
     "text": [
      "[(10, 'a'), (1, 'b'), (22, 'c')]\n",
      "[(22, 'c'), (10, 'a'), (1, 'b')]\n"
     ]
    }
   ],
   "source": [
    "d = {'a':10, 'b':1, 'c':22}\n",
    "#constructing the dictionary into a list of tuples\n",
    "l = list()\n",
    "for key, value in d.items():\n",
    "    l.append((value, key))\n",
    "print(l)\n",
    "\n",
    "l.sort(reverse= True)\n",
    "print(l)"
   ]
  },
  {
   "cell_type": "code",
   "execution_count": 19,
   "id": "90ce7734",
   "metadata": {},
   "outputs": [
    {
     "name": "stdout",
     "output_type": "stream",
     "text": [
      "[('c', 22), ('b', 1), ('a', 10)]\n"
     ]
    }
   ],
   "source": [
    "d = {'a':10, 'b':1, 'c':22}\n",
    "mn = list(d.items())\n",
    "\n",
    "mn.sort(reverse = True)\n",
    "print(mn)"
   ]
  },
  {
   "cell_type": "code",
   "execution_count": 10,
   "id": "ef385518",
   "metadata": {},
   "outputs": [
    {
     "name": "stdout",
     "output_type": "stream",
     "text": [
      "Enter file name: test text.txt\n",
      "[('a', 2), ('b', 3), ('c', 1), ('d', 1), ('e', 3), ('f', 2), ('g', 2), ('i', 4), ('j', 2), ('k', 4), ('l', 1), ('m', 4), ('n', 3), ('o', 3), ('p', 2), ('q', 1), ('r', 1), ('s', 2), ('t', 2), ('u', 4), ('v', 2), ('w', 3), ('x', 3), ('y', 1)]\n"
     ]
    }
   ],
   "source": [
    "doc= input('Enter file name: ')\n",
    "try: \n",
    "    name = open(doc)\n",
    "except: \n",
    "    print(\"File doesn't exist, please check file name\")\n",
    "    exit()\n",
    "    \n",
    "count = dict()\n",
    "for line in name:\n",
    "    line= line.rstrip()\n",
    "    #delete punctuation\n",
    "    line = line.translate(line.maketrans('', '', string.punctuation))\n",
    "    line = line.lower()\n",
    "    letters= line.split() #for each line in the variable 'name'\n",
    "    for letter in letters:\n",
    "        if letter not in count:\n",
    "            count[letter] = 1\n",
    "        else:\n",
    "            count[letter] += 1\n",
    "            \n",
    "#print(count)\n",
    "lis = list()\n",
    "for key, value in count.items():\n",
    "    lis.append((key, value))\n",
    "lis.sort()\n",
    "print(lis)"
   ]
  },
  {
   "cell_type": "code",
   "execution_count": 11,
   "id": "191982ff",
   "metadata": {
    "collapsed": true
   },
   "outputs": [
    {
     "name": "stdout",
     "output_type": "stream",
     "text": [
      "[(4, 'u'), (4, 'm'), (4, 'k'), (4, 'i'), (3, 'x'), (3, 'w'), (3, 'o'), (3, 'n'), (3, 'e'), (3, 'b'), (2, 'v'), (2, 't'), (2, 's'), (2, 'p'), (2, 'j'), (2, 'g'), (2, 'f'), (2, 'a'), (1, 'y'), (1, 'r'), (1, 'q'), (1, 'l'), (1, 'd'), (1, 'c')]\n"
     ]
    }
   ],
   "source": [
    "#to sort based on value,from the highest to the lowest value\n",
    "l = list()\n",
    "for key, value in count.items():\n",
    "    l.append((value,key))\n",
    "l.sort(reverse= True)\n",
    "print(l)"
   ]
  }
 ],
 "metadata": {
  "kernelspec": {
   "display_name": "Python 3",
   "language": "python",
   "name": "python3"
  },
  "language_info": {
   "codemirror_mode": {
    "name": "ipython",
    "version": 3
   },
   "file_extension": ".py",
   "mimetype": "text/x-python",
   "name": "python",
   "nbconvert_exporter": "python",
   "pygments_lexer": "ipython3",
   "version": "3.7.6"
  }
 },
 "nbformat": 4,
 "nbformat_minor": 5
}
