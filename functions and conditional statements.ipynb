{
 "cells": [
  {
   "cell_type": "code",
   "execution_count": 3,
   "metadata": {},
   "outputs": [
    {
     "name": "stdout",
     "output_type": "stream",
     "text": [
      "Enter your name: Ayoyinka\n",
      "Ayoyinka\n"
     ]
    }
   ],
   "source": [
    "name = input(\"Enter your name: \")\n",
    "print(name)"
   ]
  },
  {
   "cell_type": "code",
   "execution_count": 9,
   "metadata": {},
   "outputs": [
    {
     "name": "stdout",
     "output_type": "stream",
     "text": [
      "Enter Hours:  35\n",
      "Enter Rate:  2.75\n",
      "Pay:  96.25\n"
     ]
    }
   ],
   "source": [
    "hours = 35\n",
    "rate = 2.75\n",
    "\n",
    "pay = hours*rate\n",
    "\n",
    "print(\"Enter Hours: \", hours)\n",
    "print(\"Enter Rate: \", rate)\n",
    "print(\"Pay: \", pay)"
   ]
  },
  {
   "cell_type": "code",
   "execution_count": 12,
   "metadata": {},
   "outputs": [
    {
     "name": "stdout",
     "output_type": "stream",
     "text": [
      "Enter Hours: 20\n",
      "Enter Rate: 10.75\n",
      "Pay:  215.0\n"
     ]
    }
   ],
   "source": [
    "hours = input(\"Enter Hours: \")\n",
    "rate = input(\"Enter Rate: \")\n",
    "\n",
    "pay = int(hours)*float(rate)\n",
    "\n",
    "print(\"Pay: \", pay)"
   ]
  },
  {
   "cell_type": "code",
   "execution_count": 16,
   "metadata": {},
   "outputs": [
    {
     "data": {
      "text/plain": [
       "10.8"
      ]
     },
     "execution_count": 16,
     "metadata": {},
     "output_type": "execute_result"
    }
   ],
   "source": [
    "round(float(rate), 1)"
   ]
  },
  {
   "cell_type": "code",
   "execution_count": 21,
   "metadata": {},
   "outputs": [
    {
     "name": "stdout",
     "output_type": "stream",
     "text": [
      "8 <class 'int'>\n",
      "8.5 <class 'float'>\n",
      "4.0 <class 'float'>\n",
      "11 <class 'int'>\n"
     ]
    }
   ],
   "source": [
    "width= 17\n",
    "height = 12.0\n",
    "\n",
    "print(width//2, int)\n",
    "print(width/2.0, float)\n",
    "print(height/3, float)\n",
    "print(1+2*5, int)"
   ]
  },
  {
   "cell_type": "code",
   "execution_count": 32,
   "metadata": {},
   "outputs": [
    {
     "name": "stdout",
     "output_type": "stream",
     "text": [
      "temperature in celcius: 25.0\n",
      "77.0\n"
     ]
    }
   ],
   "source": [
    "celcius= input('temperature in celcius: ')\n",
    "fahr = (float(celcius) * 9.0/5.0) + 32\n",
    "#recheck conversion formular\n",
    "print(fahr)"
   ]
  },
  {
   "cell_type": "code",
   "execution_count": 30,
   "metadata": {},
   "outputs": [
    {
     "name": "stdout",
     "output_type": "stream",
     "text": [
      "input a number: 50000\n",
      "type a number: 50000\n",
      "your salary is the standard salary\n"
     ]
    }
   ],
   "source": [
    "salary = input(\"input a number: \")\n",
    "standard_salary = input(\"type a number: \")\n",
    "\n",
    "if salary > standard_salary:\n",
    "    print('your salary is greater than the standard by ', int(salary)-int(standard_salary))\n",
    "elif salary < standard_salary:\n",
    "    print(\"your salary is less than the standard\")\n",
    "else:\n",
    "    print(\"your salary is the standard salary\")"
   ]
  },
  {
   "cell_type": "code",
   "execution_count": null,
   "metadata": {},
   "outputs": [],
   "source": [
    "inp = input('Enter Fahrenheit Temperature:')\n",
    "try:\n",
    "fahr = float(inp)\n",
    "cel = (fahr - 32.0) * 5.0 / 9.0\n",
    "print(cel)\n",
    "except:\n",
    "print('Please enter a number')"
   ]
  },
  {
   "cell_type": "code",
   "execution_count": 1,
   "metadata": {},
   "outputs": [
    {
     "name": "stdout",
     "output_type": "stream",
     "text": [
      "Enter hours: 10\n",
      "Enter rate: nine\n",
      "Error, please use a numeric input\n"
     ]
    }
   ],
   "source": [
    "hours = input(\"Enter hours: \")\n",
    "try:\n",
    "    rate= input(\"Enter rate: \")\n",
    "    pay = rate*hours\n",
    "except:\n",
    "    print(\"Error, please use a numeric input\")"
   ]
  },
  {
   "cell_type": "code",
   "execution_count": 2,
   "metadata": {},
   "outputs": [
    {
     "name": "stdout",
     "output_type": "stream",
     "text": [
      "0.7853981633974483\n"
     ]
    },
    {
     "data": {
      "text/plain": [
       "0.7071067811865476"
      ]
     },
     "execution_count": 2,
     "metadata": {},
     "output_type": "execute_result"
    }
   ],
   "source": [
    "import math\n",
    "\n",
    "degrees = 45\n",
    "radians = degrees / 360.0*2* math.pi\n",
    "\n",
    "print(radians)\n",
    "math.sin(radians)"
   ]
  },
  {
   "cell_type": "code",
   "execution_count": 8,
   "metadata": {},
   "outputs": [
    {
     "name": "stdout",
     "output_type": "stream",
     "text": [
      "0.6435186545671205\n",
      "0.8927742444948593\n",
      "0.6655322375384096\n",
      "0.941604105681293\n",
      "0.2539593788489046\n",
      "0.1350307139464726\n",
      "0.8960059145360527\n",
      "0.8044908840275174\n",
      "0.11015276729065271\n",
      "0.9516332766012043\n"
     ]
    }
   ],
   "source": [
    "import random\n",
    "\n",
    "for i in range(10):\n",
    "    x = random.random()\n",
    "    print(x)"
   ]
  },
  {
   "cell_type": "code",
   "execution_count": 12,
   "metadata": {},
   "outputs": [
    {
     "data": {
      "text/plain": [
       "6"
      ]
     },
     "execution_count": 12,
     "metadata": {},
     "output_type": "execute_result"
    }
   ],
   "source": [
    "random.randint(5,10)\n",
    "#randint returns parameters between the numbers"
   ]
  },
  {
   "cell_type": "code",
   "execution_count": 15,
   "metadata": {},
   "outputs": [],
   "source": [
    "def print_lyrics():\n",
    "    print(\"I'm gonna sing forever\")\n",
    "    "
   ]
  },
  {
   "cell_type": "code",
   "execution_count": 16,
   "metadata": {},
   "outputs": [
    {
     "name": "stdout",
     "output_type": "stream",
     "text": [
      "<function print_lyrics at 0x000001D7D3BC3C18>\n"
     ]
    }
   ],
   "source": [
    "print(print_lyrics)"
   ]
  },
  {
   "cell_type": "code",
   "execution_count": 17,
   "metadata": {},
   "outputs": [
    {
     "name": "stdout",
     "output_type": "stream",
     "text": [
      "I'm gonna sing forever\n"
     ]
    }
   ],
   "source": [
    "print_lyrics()"
   ]
  },
  {
   "cell_type": "code",
   "execution_count": 19,
   "metadata": {},
   "outputs": [],
   "source": [
    "def repeat_lyrics():\n",
    "    print_lyrics()\n",
    "    print_lyrics()"
   ]
  },
  {
   "cell_type": "code",
   "execution_count": 20,
   "metadata": {},
   "outputs": [
    {
     "name": "stdout",
     "output_type": "stream",
     "text": [
      "I'm gonna sing forever\n",
      "I'm gonna sing forever\n"
     ]
    }
   ],
   "source": [
    "repeat_lyrics()"
   ]
  },
  {
   "cell_type": "code",
   "execution_count": 21,
   "metadata": {},
   "outputs": [
    {
     "name": "stdout",
     "output_type": "stream",
     "text": [
      "Spam\n",
      "Spam\n",
      "twenty-six\n",
      "twenty-six\n",
      "3.141592653589793\n",
      "3.141592653589793\n"
     ]
    }
   ],
   "source": [
    "def double(bruce):\n",
    "    print(bruce)\n",
    "    print(bruce)\n",
    "\n",
    "double(\"Spam\")\n",
    "double(\"twenty-six\")\n",
    "double(math.pi)"
   ]
  },
  {
   "cell_type": "code",
   "execution_count": 23,
   "metadata": {},
   "outputs": [
    {
     "name": "stdout",
     "output_type": "stream",
     "text": [
      "8\n"
     ]
    }
   ],
   "source": [
    "def addtwo(a,b):\n",
    "    addition = a+b\n",
    "    return addition\n",
    "\n",
    "x = addtwo(3,5)\n",
    "print(x)"
   ]
  },
  {
   "cell_type": "code",
   "execution_count": 24,
   "metadata": {},
   "outputs": [
    {
     "name": "stdout",
     "output_type": "stream",
     "text": [
      "ABC\n",
      "Zap\n",
      "ABC\n"
     ]
    }
   ],
   "source": [
    "def fred():\n",
    "    print(\"Zap\")\n",
    "\n",
    "def jane():\n",
    "    print(\"ABC\")\n",
    "    \n",
    "jane()\n",
    "fred()\n",
    "jane()"
   ]
  },
  {
   "cell_type": "code",
   "execution_count": 30,
   "metadata": {},
   "outputs": [
    {
     "name": "stdout",
     "output_type": "stream",
     "text": [
      "Enter rate: 19\n",
      "Enter hours: 19\n",
      "Pay:  361\n"
     ]
    }
   ],
   "source": [
    "def compute_pay(a,b):\n",
    "    output= a*b\n",
    "    return output\n",
    "\n",
    "rate= input(\"Enter rate: \")\n",
    "hours = input(\"Enter hours: \")\n",
    "pay = compute_pay(int(rate), int(hours))\n",
    "\n",
    "print(\"Pay: \", pay)"
   ]
  },
  {
   "cell_type": "code",
   "execution_count": 9,
   "metadata": {},
   "outputs": [
    {
     "name": "stdout",
     "output_type": "stream",
     "text": [
      "Enter Score: 0.2\n",
      "F\n"
     ]
    }
   ],
   "source": [
    "#fix this code\n",
    "def compute_grade(x):\n",
    "    if x >= 0.9:\n",
    "        print(\"A\"),\n",
    "    elif x >= 0.8:\n",
    "        print(\"B\"),\n",
    "    elif x >= 0.7:\n",
    "        print(\"C\"),\n",
    "    elif x >= 0.6:\n",
    "        print(\"D\"),\n",
    "    elif x < 0.6:\n",
    "        print(\"F\"),\n",
    "    else:\n",
    "        print(\"bad score\")\n",
    "    \n",
    "scoring  = input('Enter Score: ')\n",
    "\n",
    "\n",
    "score = compute_grade(float(scoring))"
   ]
  },
  {
   "cell_type": "code",
   "execution_count": null,
   "metadata": {},
   "outputs": [],
   "source": []
  },
  {
   "cell_type": "code",
   "execution_count": 11,
   "metadata": {},
   "outputs": [
    {
     "name": "stdout",
     "output_type": "stream",
     "text": [
      "Enter your age: 28\n",
      "Somebody who is 28, will pay 2.75euros fare to ride the bus.\n"
     ]
    }
   ],
   "source": [
    "age= int(input(\"Enter your age: \"))\n",
    "\n",
    "#age ranges for different ticket prices\n",
    "free_age = 4\n",
    "child_teenager_age = 18\n",
    "adult_age = 65\n",
    "\n",
    "#this highlights the bus fares for each age inputed\n",
    "concession_ticket = 1.65\n",
    "adult_ticket = 2.75\n",
    "\n",
    "#logic for disbursing ticket, below 18 and above 65 pay concession\n",
    "if age <= free_age:\n",
    "    ticket_price = 0\n",
    "elif age <= child_teenager_age:\n",
    "    ticket_price = concession_ticket\n",
    "elif age >= adult_age:\n",
    "    ticket_price = concession_ticket\n",
    "else:\n",
    "    ticket_price = adult_ticket\n",
    "    \n",
    "message = \"Somebody who is {}, will pay {} euros fare to ride the bus.\".format(age, ticket_price)\n",
    "\n",
    "print(message)"
   ]
  },
  {
   "cell_type": "code",
   "execution_count": 21,
   "metadata": {},
   "outputs": [
    {
     "name": "stdout",
     "output_type": "stream",
     "text": [
      "Guess the number: 50\n",
      "Yes! You got it right!\n"
     ]
    }
   ],
   "source": [
    "number = 50\n",
    "guess = int(input(\"Guess the number: \"))\n",
    "\n",
    "if guess < number:\n",
    "    print(\"Oops! your guess was too low!\")\n",
    "elif guess > number:\n",
    "    print(\"Oops! your guess was too high!\")\n",
    "elif guess == number:\n",
    "    print(\"Yes! You got it right!\")\n",
    "else:\n",
    "    print(\"Please input a number\")"
   ]
  },
  {
   "cell_type": "code",
   "execution_count": 27,
   "metadata": {},
   "outputs": [
    {
     "name": "stdout",
     "output_type": "stream",
     "text": [
      "Congratulations you won a wafer-thin mint!\n"
     ]
    }
   ],
   "source": [
    "points = 174\n",
    "\n",
    "# establish the default prize value to None\n",
    "prize = None\n",
    "\n",
    "# use the points value to assign prizes to the correct prize names\n",
    "if points <= 50:\n",
    "    prize = \"wooden rabbit\"\n",
    "elif 151 <= points <= 180:\n",
    "    prize = \"wafer-thin mint\"\n",
    "elif points >= 181:\n",
    "    prize = \"penguin\"\n",
    "\n",
    "# use the truth value of prize to assign result to the correct prize\n",
    "if prize:\n",
    "    result = \"Congratulations you won a {}!\".format(prize)\n",
    "else:\n",
    "    result= \"Sorry! You've won no prizes at this time.\"\n",
    "    \n",
    "print(result)"
   ]
  },
  {
   "cell_type": "code",
   "execution_count": 28,
   "metadata": {},
   "outputs": [
    {
     "name": "stdout",
     "output_type": "stream",
     "text": [
      "['joey_tribbiani', 'monica_geller', 'chandler_bing', 'phoebe_buffay']\n"
     ]
    }
   ],
   "source": [
    "names = [\"Joey Tribbiani\", \"Monica Geller\", \"Chandler Bing\", \"Phoebe Buffay\"]\n",
    "usernames = []\n",
    "\n",
    "# write your for loop here\n",
    "for name in names:\n",
    "    name = name.lower().replace(' ','_')\n",
    "    usernames.append(name)\n",
    "    \n",
    "print(usernames)"
   ]
  },
  {
   "cell_type": "code",
   "execution_count": 30,
   "metadata": {},
   "outputs": [
    {
     "data": {
      "text/plain": [
       "{'great': 2,\n",
       " 'expectations': 1,\n",
       " 'the': 2,\n",
       " 'adventures': 2,\n",
       " 'of': 2,\n",
       " 'sherlock': 1,\n",
       " 'holmes': 1,\n",
       " 'gasby': 1,\n",
       " 'hamlet': 1,\n",
       " 'huckleberry': 1,\n",
       " 'fin': 1}"
      ]
     },
     "execution_count": 30,
     "metadata": {},
     "output_type": "execute_result"
    }
   ],
   "source": [
    "book_title =  ['great', 'expectations','the', 'adventures', 'of', 'sherlock','holmes','the','great','gasby','hamlet','adventures','of','huckleberry','fin']\n",
    "\n",
    "word_counter = {}\n",
    "\n",
    "for word in book_title:\n",
    "    if word not in word_counter:\n",
    "        word_counter[word] = 1\n",
    "    else:\n",
    "        word_counter[word] += 1\n",
    "word_counter"
   ]
  },
  {
   "cell_type": "code",
   "execution_count": 32,
   "metadata": {},
   "outputs": [
    {
     "data": {
      "text/plain": [
       "{'great': 6,\n",
       " 'expectations': 3,\n",
       " 'the': 6,\n",
       " 'adventures': 6,\n",
       " 'of': 6,\n",
       " 'sherlock': 3,\n",
       " 'holmes': 3,\n",
       " 'gasby': 3,\n",
       " 'hamlet': 3,\n",
       " 'huckleberry': 3,\n",
       " 'fin': 3}"
      ]
     },
     "execution_count": 32,
     "metadata": {},
     "output_type": "execute_result"
    }
   ],
   "source": [
    "#using the get method\n",
    "for word in book_title:\n",
    "    word_counter[word] = word_counter.get(word, 0) + 1\n",
    "\n",
    "word_counter"
   ]
  },
  {
   "cell_type": "code",
   "execution_count": 1,
   "metadata": {},
   "outputs": [
    {
     "name": "stdout",
     "output_type": "stream",
     "text": [
      "> hello!\n",
      "hello!\n",
      "> How are you today?\n",
      "How are you today?\n",
      "> finished\n",
      "finished\n",
      "> done\n",
      "Done!\n"
     ]
    }
   ],
   "source": [
    "while True:\n",
    "    line = input('> ')\n",
    "    if line == 'done':\n",
    "        break\n",
    "    print(line)\n",
    "print('Done!')"
   ]
  }
 ],
 "metadata": {
  "kernelspec": {
   "display_name": "Python 3",
   "language": "python",
   "name": "python3"
  },
  "language_info": {
   "codemirror_mode": {
    "name": "ipython",
    "version": 3
   },
   "file_extension": ".py",
   "mimetype": "text/x-python",
   "name": "python",
   "nbconvert_exporter": "python",
   "pygments_lexer": "ipython3",
   "version": "3.7.6"
  }
 },
 "nbformat": 4,
 "nbformat_minor": 4
}
